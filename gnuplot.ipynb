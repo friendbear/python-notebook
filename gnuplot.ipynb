{
 "cells": [
  {
   "cell_type": "markdown",
   "id": "2c3cb028-74e0-4ae3-bec4-3f3576a45e45",
   "metadata": {},
   "source": [
    "\n",
    "# python+gnuplotでマンデルブロ集合（その２）"
   ]
  },
  {
   "cell_type": "markdown",
   "id": "a9f80b93-3d2c-4255-a2a4-fb933a9956bb",
   "metadata": {},
   "source": [
    "## install\n",
    "<https://pypi.org/project/py-gnuplot/>"
   ]
  },
  {
   "cell_type": "code",
   "execution_count": 10,
   "id": "da7f2f1d-7cca-4753-8f95-c305f615db45",
   "metadata": {},
   "outputs": [],
   "source": [
    "import numpy as np"
   ]
  },
  {
   "cell_type": "code",
   "execution_count": 11,
   "id": "24c0d72a-0a5c-4a74-94f6-40868832602c",
   "metadata": {},
   "outputs": [],
   "source": [
    "# <https://pypi.org/project/PyGnuplot/>"
   ]
  },
  {
   "cell_type": "code",
   "execution_count": 12,
   "id": "279c50be-aeac-4be9-a50e-65a8f1e12f1d",
   "metadata": {},
   "outputs": [],
   "source": [
    "def columns_save(data, filename='tmp.dat'):\n",
    "    '''\n",
    "    saves numbers arrays and text into filename (default = 'tmp.dat)\n",
    "    (assumes equal sizes and 2D data sets)\n",
    "    >>> s(data, filename='tmp.dat')  # overwrites/creates tmp.dat\n",
    "    '''\n",
    "    file = open(filename, 'w')\n",
    "    columns = len(data)\n",
    "    rows = len(data[0])\n",
    "    for i in range(columns):\n",
    "        if data[i] == []:\n",
    "            file.write('\\n')\n",
    "            continue\n",
    "        for j in range(rows):\n",
    "            file.write(str(data[i][j]))\n",
    "            file.write(' ')\n",
    "        file.write('\\n')\n",
    "        if i % 1000 == 0 :\n",
    "            file.flush()  # write once after every 1000 entries\n",
    "    file.close()  # write the rest\n"
   ]
  },
  {
   "cell_type": "code",
   "execution_count": 13,
   "id": "efd412c1-13c3-4b60-bbd7-d9d09524d24f",
   "metadata": {},
   "outputs": [
    {
     "name": "stdout",
     "output_type": "stream",
     "text": [
      "Requirement already satisfied: PyPI in /Users/k22/.pyenv/versions/anaconda3-2021.05/lib/python3.8/site-packages (2.1)\n",
      "Note: you may need to restart the kernel to use updated packages.\n"
     ]
    }
   ],
   "source": [
    "pip install PyPI"
   ]
  },
  {
   "cell_type": "code",
   "execution_count": 14,
   "id": "b6af9f8c-635d-4751-8862-db0a0b2a464a",
   "metadata": {},
   "outputs": [
    {
     "name": "stdout",
     "output_type": "stream",
     "text": [
      "Requirement already satisfied: PyGnuplot in /Users/k22/.pyenv/versions/anaconda3-2021.05/lib/python3.8/site-packages (0.11.16)\n",
      "Note: you may need to restart the kernel to use updated packages.\n"
     ]
    }
   ],
   "source": [
    "pip install PyGnuplot\n"
   ]
  },
  {
   "cell_type": "code",
   "execution_count": 15,
   "id": "9b027ed3-5194-4b4b-bc6f-91088e77ce38",
   "metadata": {},
   "outputs": [],
   "source": [
    "\n",
    "class Mandelbrot:\n",
    "\n",
    "    scale       = 0.003\n",
    "    sample      = 1000\n",
    "    isosample   = 1000\n",
    "    cnter=complex(-0.743,0.1145)\n",
    "    def __init__(self):\n",
    "        self._xbase = np.linspace(-self.scale,self.scale,self.sample)\n",
    "        self._ybase = np.linspace(-self.scale,self.scale,self.isosample)\n",
    "        self._cbases = []\n",
    "        self._mset = []\n",
    "\n",
    "    def __gen_cbases(self):\n",
    "        if self._cbases != []: return\n",
    "        for x in self._xbase:\n",
    "            self._cbases.append([])\n",
    "            for y in self._ybase:\n",
    "                self._cbases[-1].append(complex(x,y)+self.cnter)\n",
    "        return\n",
    "\n",
    "    def mandelbrot(self,c):\n",
    "        z = 0j\n",
    "        for n in range(1,200):\n",
    "            z = z**2 + c\n",
    "            if np.abs(z) > 2.0:\n",
    "                print(np.log(n))\n",
    "                return np.log(n)\n",
    "        return 0\n",
    "\n",
    "    def gen_mandelbrot(self):\n",
    "        if self._mset != []: return\n",
    "        self.__gen_cbases()\n",
    "        for cs in self._cbases:\n",
    "            for c in cs:\n",
    "                self._mset.append([c.real, c.imag, self.mandelbrot(c)])\n",
    "            self._mset.append([])\n",
    "        return\n",
    "\n",
    "    def reset(self):\n",
    "        self._cbases = []\n",
    "        self._mset = []\n",
    "        return\n",
    "\n",
    "    @property\n",
    "    def mandelbrot_set(self):\n",
    "        if self._mset == []:\n",
    "            self.gen_mandelbrot()\n",
    "        return self._mset\n"
   ]
  },
  {
   "cell_type": "code",
   "execution_count": 16,
   "id": "890434ea-324a-40d0-8178-8883beac517c",
   "metadata": {},
   "outputs": [
    {
     "ename": "FileNotFoundError",
     "evalue": "[Errno 2] No such file or directory: 'gnuplot'",
     "output_type": "error",
     "traceback": [
      "\u001b[0;31m---------------------------------------------------------------------------\u001b[0m",
      "\u001b[0;31mFileNotFoundError\u001b[0m                         Traceback (most recent call last)",
      "\u001b[0;32m<ipython-input-16-ac2f3df7d997>\u001b[0m in \u001b[0;36m<module>\u001b[0;34m\u001b[0m\n\u001b[0;32m----> 1\u001b[0;31m \u001b[0;32mimport\u001b[0m \u001b[0mPyGnuplot\u001b[0m \u001b[0;32mas\u001b[0m \u001b[0mgp\u001b[0m\u001b[0;34m\u001b[0m\u001b[0;34m\u001b[0m\u001b[0m\n\u001b[0m\u001b[1;32m      2\u001b[0m \u001b[0mgp\u001b[0m\u001b[0;34m.\u001b[0m\u001b[0mcolss\u001b[0m \u001b[0;34m=\u001b[0m \u001b[0mcolumns_save\u001b[0m\u001b[0;34m\u001b[0m\u001b[0;34m\u001b[0m\u001b[0m\n",
      "\u001b[0;32m~/.pyenv/versions/anaconda3-2021.05/lib/python3.8/site-packages/PyGnuplot.py\u001b[0m in \u001b[0;36m<module>\u001b[0;34m\u001b[0m\n\u001b[1;32m    110\u001b[0m \u001b[0;34m\u001b[0m\u001b[0m\n\u001b[1;32m    111\u001b[0m \u001b[0;34m\u001b[0m\u001b[0m\n\u001b[0;32m--> 112\u001b[0;31m \u001b[0mfl\u001b[0m \u001b[0;34m=\u001b[0m \u001b[0m_FigureList\u001b[0m\u001b[0;34m(\u001b[0m\u001b[0;34m)\u001b[0m\u001b[0;34m\u001b[0m\u001b[0;34m\u001b[0m\u001b[0m\n\u001b[0m",
      "\u001b[0;32m~/.pyenv/versions/anaconda3-2021.05/lib/python3.8/site-packages/PyGnuplot.py\u001b[0m in \u001b[0;36m__init__\u001b[0;34m(self)\u001b[0m\n\u001b[1;32m     28\u001b[0m \u001b[0;34m\u001b[0m\u001b[0m\n\u001b[1;32m     29\u001b[0m     \u001b[0;32mdef\u001b[0m \u001b[0m__init__\u001b[0m\u001b[0;34m(\u001b[0m\u001b[0mself\u001b[0m\u001b[0;34m)\u001b[0m\u001b[0;34m:\u001b[0m\u001b[0;34m\u001b[0m\u001b[0;34m\u001b[0m\u001b[0m\n\u001b[0;32m---> 30\u001b[0;31m         \u001b[0mproc\u001b[0m \u001b[0;34m=\u001b[0m \u001b[0m_Popen\u001b[0m\u001b[0;34m(\u001b[0m\u001b[0;34m[\u001b[0m\u001b[0;34m'gnuplot'\u001b[0m\u001b[0;34m,\u001b[0m \u001b[0;34m'-p'\u001b[0m\u001b[0;34m]\u001b[0m\u001b[0;34m,\u001b[0m \u001b[0mshell\u001b[0m\u001b[0;34m=\u001b[0m\u001b[0;32mFalse\u001b[0m\u001b[0;34m,\u001b[0m \u001b[0mstdin\u001b[0m\u001b[0;34m=\u001b[0m\u001b[0m_PIPE\u001b[0m\u001b[0;34m,\u001b[0m \u001b[0muniversal_newlines\u001b[0m\u001b[0;34m=\u001b[0m\u001b[0;32mTrue\u001b[0m\u001b[0;34m)\u001b[0m  \u001b[0;31m# persitant -p\u001b[0m\u001b[0;34m\u001b[0m\u001b[0;34m\u001b[0m\u001b[0m\n\u001b[0m\u001b[1;32m     31\u001b[0m         \u001b[0mself\u001b[0m\u001b[0;34m.\u001b[0m\u001b[0minstance\u001b[0m \u001b[0;34m=\u001b[0m \u001b[0;34m{\u001b[0m\u001b[0;36m0\u001b[0m \u001b[0;34m:\u001b[0m \u001b[0;34m[\u001b[0m\u001b[0mproc\u001b[0m\u001b[0;34m,\u001b[0m \u001b[0mdefault_term\u001b[0m\u001b[0;34m]\u001b[0m\u001b[0;34m}\u001b[0m  \u001b[0;31m# {figure number : [process, terminal type]}\u001b[0m\u001b[0;34m\u001b[0m\u001b[0;34m\u001b[0m\u001b[0m\n\u001b[1;32m     32\u001b[0m         \u001b[0mself\u001b[0m\u001b[0;34m.\u001b[0m\u001b[0mn\u001b[0m \u001b[0;34m=\u001b[0m \u001b[0;36m0\u001b[0m  \u001b[0;31m# currently selected Figure\u001b[0m\u001b[0;34m\u001b[0m\u001b[0;34m\u001b[0m\u001b[0m\n",
      "\u001b[0;32m~/.pyenv/versions/anaconda3-2021.05/lib/python3.8/subprocess.py\u001b[0m in \u001b[0;36m__init__\u001b[0;34m(self, args, bufsize, executable, stdin, stdout, stderr, preexec_fn, close_fds, shell, cwd, env, universal_newlines, startupinfo, creationflags, restore_signals, start_new_session, pass_fds, encoding, errors, text)\u001b[0m\n\u001b[1;32m    856\u001b[0m                             encoding=encoding, errors=errors)\n\u001b[1;32m    857\u001b[0m \u001b[0;34m\u001b[0m\u001b[0m\n\u001b[0;32m--> 858\u001b[0;31m             self._execute_child(args, executable, preexec_fn, close_fds,\n\u001b[0m\u001b[1;32m    859\u001b[0m                                 \u001b[0mpass_fds\u001b[0m\u001b[0;34m,\u001b[0m \u001b[0mcwd\u001b[0m\u001b[0;34m,\u001b[0m \u001b[0menv\u001b[0m\u001b[0;34m,\u001b[0m\u001b[0;34m\u001b[0m\u001b[0;34m\u001b[0m\u001b[0m\n\u001b[1;32m    860\u001b[0m                                 \u001b[0mstartupinfo\u001b[0m\u001b[0;34m,\u001b[0m \u001b[0mcreationflags\u001b[0m\u001b[0;34m,\u001b[0m \u001b[0mshell\u001b[0m\u001b[0;34m,\u001b[0m\u001b[0;34m\u001b[0m\u001b[0;34m\u001b[0m\u001b[0m\n",
      "\u001b[0;32m~/.pyenv/versions/anaconda3-2021.05/lib/python3.8/subprocess.py\u001b[0m in \u001b[0;36m_execute_child\u001b[0;34m(self, args, executable, preexec_fn, close_fds, pass_fds, cwd, env, startupinfo, creationflags, shell, p2cread, p2cwrite, c2pread, c2pwrite, errread, errwrite, restore_signals, start_new_session)\u001b[0m\n\u001b[1;32m   1704\u001b[0m                     \u001b[0;32mif\u001b[0m \u001b[0merrno_num\u001b[0m \u001b[0;34m!=\u001b[0m \u001b[0;36m0\u001b[0m\u001b[0;34m:\u001b[0m\u001b[0;34m\u001b[0m\u001b[0;34m\u001b[0m\u001b[0m\n\u001b[1;32m   1705\u001b[0m                         \u001b[0merr_msg\u001b[0m \u001b[0;34m=\u001b[0m \u001b[0mos\u001b[0m\u001b[0;34m.\u001b[0m\u001b[0mstrerror\u001b[0m\u001b[0;34m(\u001b[0m\u001b[0merrno_num\u001b[0m\u001b[0;34m)\u001b[0m\u001b[0;34m\u001b[0m\u001b[0;34m\u001b[0m\u001b[0m\n\u001b[0;32m-> 1706\u001b[0;31m                     \u001b[0;32mraise\u001b[0m \u001b[0mchild_exception_type\u001b[0m\u001b[0;34m(\u001b[0m\u001b[0merrno_num\u001b[0m\u001b[0;34m,\u001b[0m \u001b[0merr_msg\u001b[0m\u001b[0;34m,\u001b[0m \u001b[0merr_filename\u001b[0m\u001b[0;34m)\u001b[0m\u001b[0;34m\u001b[0m\u001b[0;34m\u001b[0m\u001b[0m\n\u001b[0m\u001b[1;32m   1707\u001b[0m                 \u001b[0;32mraise\u001b[0m \u001b[0mchild_exception_type\u001b[0m\u001b[0;34m(\u001b[0m\u001b[0merr_msg\u001b[0m\u001b[0;34m)\u001b[0m\u001b[0;34m\u001b[0m\u001b[0;34m\u001b[0m\u001b[0m\n\u001b[1;32m   1708\u001b[0m \u001b[0;34m\u001b[0m\u001b[0m\n",
      "\u001b[0;31mFileNotFoundError\u001b[0m: [Errno 2] No such file or directory: 'gnuplot'"
     ]
    }
   ],
   "source": [
    "\n",
    "import PyGnuplot as gp\n",
    "gp.colss = columns_save\n"
   ]
  },
  {
   "cell_type": "code",
   "execution_count": null,
   "id": "6db8d75e-2970-458c-8f1b-85daa226579f",
   "metadata": {},
   "outputs": [],
   "source": [
    "\n",
    "if __name__ == \"__main__\":\n",
    "    m = Mandelbrot()\n",
    "    print(\"calc\")\n",
    "    gp.colss(m.mandelbrot_set)\n",
    "    gp.c(\"\"\"\n",
    "        set term png size 900,900\n",
    "        set output \"m2.png\"\n",
    "        set size square;\n",
    "        set grid\n",
    "        set pm3d map\n",
    "#        set nosurface\n",
    "#        set contour base\n",
    "#        set view map\n",
    "        \"\"\")\n",
    "    gp.c('splot \"tmp.dat\" using 1:2:3')"
   ]
  },
  {
   "cell_type": "code",
   "execution_count": null,
   "id": "bf4480ce-b2ed-48e5-beae-9df3716ebf9b",
   "metadata": {},
   "outputs": [],
   "source": []
  },
  {
   "cell_type": "code",
   "execution_count": null,
   "id": "b8f41eb3-54e3-4cef-a141-977b9c0fbdd9",
   "metadata": {},
   "outputs": [],
   "source": []
  },
  {
   "cell_type": "code",
   "execution_count": null,
   "id": "1066ad96-dd1e-4c44-bf5e-0885dea5ef9f",
   "metadata": {},
   "outputs": [],
   "source": []
  }
 ],
 "metadata": {
  "kernelspec": {
   "display_name": "Python 3",
   "language": "python",
   "name": "python3"
  },
  "language_info": {
   "codemirror_mode": {
    "name": "ipython",
    "version": 3
   },
   "file_extension": ".py",
   "mimetype": "text/x-python",
   "name": "python",
   "nbconvert_exporter": "python",
   "pygments_lexer": "ipython3",
   "version": "3.8.8"
  }
 },
 "nbformat": 4,
 "nbformat_minor": 5
}
